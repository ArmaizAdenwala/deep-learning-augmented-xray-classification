{
  "nbformat": 4,
  "nbformat_minor": 0,
  "metadata": {
    "colab": {
      "name": "CSC 177 Final Project Transformation - Medical Data",
      "provenance": []
    },
    "kernelspec": {
      "name": "python3",
      "display_name": "Python 3"
    },
    "language_info": {
      "name": "python"
    }
  },
  "cells": [
    {
      "cell_type": "code",
      "metadata": {
        "id": "GAStMsM2BHPV"
      },
      "source": [
        "import os"
      ],
      "execution_count": null,
      "outputs": []
    },
    {
      "cell_type": "code",
      "metadata": {
        "id": "Q27xdexMBRUY"
      },
      "source": [
        " ! pip install -q kaggle"
      ],
      "execution_count": null,
      "outputs": []
    },
    {
      "cell_type": "code",
      "metadata": {
        "id": "V3hiZmZOBTIl"
      },
      "source": [
        "from google.colab import files\n",
        "files.upload()"
      ],
      "execution_count": null,
      "outputs": []
    },
    {
      "cell_type": "code",
      "metadata": {
        "id": "LHlHbzjqBTfP"
      },
      "source": [
        "! mkdir ~/.kaggle\n",
        "! cp kaggle.json ~/.kaggle/\n",
        "! chmod 600 ~/.kaggle/kaggle.json"
      ],
      "execution_count": null,
      "outputs": []
    },
    {
      "cell_type": "code",
      "metadata": {
        "id": "e-GyfPnNBVdQ"
      },
      "source": [
        "! kaggle datasets download -d paultimothymooney/chest-xray-pneumonia"
      ],
      "execution_count": null,
      "outputs": []
    },
    {
      "cell_type": "code",
      "metadata": {
        "id": "odrkRESSBaM4"
      },
      "source": [
        "! mkdir dataset\n",
        "! unzip chest-xray-pneumonia.zip -d dataset"
      ],
      "execution_count": null,
      "outputs": []
    },
    {
      "cell_type": "code",
      "metadata": {
        "id": "Vtl3O9xXBbWh"
      },
      "source": [
        "! mkdir ./dataset/chest_xray/chest_xray_normal\n",
        "! mkdir ./dataset/chest_xray/chest_xray_pneumonia\n",
        "! cp -r ./dataset/chest_xray/chest_xray/train/NORMAL ./dataset/chest_xray/chest_xray_normal/train\n",
        "! cp -r ./dataset/chest_xray/chest_xray/train/PNEUMONIA ./dataset/chest_xray/chest_xray_pneumonia/train"
      ],
      "execution_count": null,
      "outputs": []
    },
    {
      "cell_type": "code",
      "metadata": {
        "id": "EuV6brPbCkyk"
      },
      "source": [
        "os.makedirs('generated/normal', exist_ok=True)\n",
        "os.makedirs('generated/pneumonia', exist_ok=True)"
      ],
      "execution_count": null,
      "outputs": []
    },
    {
      "cell_type": "code",
      "metadata": {
        "id": "KxQGA5n1Biad"
      },
      "source": [
        "! pip install pillow"
      ],
      "execution_count": null,
      "outputs": []
    },
    {
      "cell_type": "code",
      "metadata": {
        "id": "6RuSGAd7CBkX"
      },
      "source": [
        "from PIL import Image\n",
        "import glob"
      ],
      "execution_count": null,
      "outputs": []
    },
    {
      "cell_type": "code",
      "metadata": {
        "id": "87MVRerJHqoq"
      },
      "source": [
        "import random"
      ],
      "execution_count": null,
      "outputs": []
    },
    {
      "cell_type": "code",
      "metadata": {
        "id": "ejg6vSBIFUP5"
      },
      "source": [
        "def crop_center(image, crop_width, crop_height, x=0,y=0):\n",
        "    width, height = image.size\n",
        "    return image.crop(((width + x - crop_width) // 2,\n",
        "                         (height + y - crop_height) // 2,\n",
        "                         (width + x + crop_width) // 2,\n",
        "                         (height + y + crop_height) // 2))"
      ],
      "execution_count": null,
      "outputs": []
    },
    {
      "cell_type": "code",
      "metadata": {
        "id": "lhZ2jtaYIn-X"
      },
      "source": [
        "def resize(image, size=128):\n",
        "  width, height = image.size\n",
        "  min_dimension = height if width > height else width\n",
        "  image = crop_center(image, min_dimension, min_dimension)\n",
        "  image = image.resize((size, size))\n",
        "  return image\n",
        "\n",
        "def random_zoom(image):\n",
        "  rotation = random.normalvariate(0, 3)\n",
        "  image = image.rotate(rotation)\n",
        "  image = resize(image, random.randint(140,168))\n",
        "  y_translate = random.normalvariate(0, 3)\n",
        "  x_translate = random.normalvariate(0, 3)\n",
        "  width, height = image.size\n",
        "  min_dimension = height if width > height else width\n",
        "  image = crop_center(image, min_dimension, min_dimension, y_translate, x_translate)\n",
        "  image = image.resize((128, 128))\n",
        "  return image"
      ],
      "execution_count": null,
      "outputs": []
    },
    {
      "cell_type": "code",
      "metadata": {
        "id": "HUCtyWEAIEgf"
      },
      "source": [
        "def random_transform(image):\n",
        "  zoomed = bool(random.getrandbits(1))\n",
        "  image = random_zoom(image) if zoomed else resize(image)\n",
        "\n",
        "  return image\n"
      ],
      "execution_count": null,
      "outputs": []
    },
    {
      "cell_type": "code",
      "metadata": {
        "id": "ZHl5j-EuCZVp"
      },
      "source": [
        "images = glob.glob(\"dataset/chest_xray/chest_xray_normal/train/*.jpeg\")\n",
        "for idx, image in enumerate(images):\n",
        "    with open(image, 'rb') as file:\n",
        "        img = Image.open(file)\n",
        "        for x in range(5):\n",
        "          transformed_img = random_transform(img)\n",
        "          transformed_img.save('generated/normal/transformed-xray-{0:0=5d}-{1}.jpg'.format(idx,x))\n",
        "\n",
        "images = glob.glob(\"dataset/chest_xray/chest_xray_pneumonia/train/*.jpeg\")\n",
        "for idx, image in enumerate(images):\n",
        "    with open(image, 'rb') as file:\n",
        "        img = Image.open(file)\n",
        "        for x in range(5):\n",
        "          transformed_img = random_transform(img)\n",
        "          transformed_img.save('generated/pneumonia/transformed-xray-{0:0=5d}-{1}.jpg'.format(idx,x))\n"
      ],
      "execution_count": null,
      "outputs": []
    }
  ]
}